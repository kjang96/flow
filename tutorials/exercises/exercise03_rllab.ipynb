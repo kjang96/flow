{
 "cells": [
  {
   "cell_type": "markdown",
   "metadata": {},
   "source": [
    "# Exercise 03: Running rllab Experiments\n",
    "\n",
    "This tutorial walks you through the process of running traffic simulations in Flow with trainable rllab-powered agents. Autonomous agents will learn to maximize a certain reward over the rollouts, using the **rllab** library [1]. Simulations of this form will depict the propensity of RL agents to influence the traffic of a human fleet in order to make the whole fleet more efficient (for some given metrics). \n",
    "\n",
    "In this exercise, we simulate an initially perturbed single lane ring road, where we introduce a single autonomous vehicle. We witness that, after some training, that the autonomous vehicle learns to dissipate the formation and propagation of \"phantom jams\" which form when only human driver dynamics is involved.\n",
    "\n",
    "## 1. Components of a Simulation\n",
    "All simulations, both in the presence and absence of RL, require two components: a *scenario*, and an *environment*. Scenarios describe the features of the transportation network used in simulation. This includes the positions and properties of nodes and edges constituting the lanes and junctions, as well as properties of the vehicles, traffic lights, inflows, etc... in the network. Environments, on the other hand, initialize, reset, and advance simulations, and act as the primary interface between the reinforcement learning algorithm and the scenario. Moreover, custom environments may be used to modify the dynamical features of an scenario. Finally, in the RL case, it is in the *environment* that the state/action spaces and the reward function are defined. \n",
    "\n",
    "## 2. Setting up a Scenario\n",
    "Flow contains a plethora of pre-designed scenarios used to replicate highways, intersections, and merges in both closed and open settings. All these scenarios are located in flow/scenarios. For this exercise, which involves a single lane ring road, we will use the scenario `LoopScenario`.\n",
    "\n",
    "### 2.1 Setting up Scenario Parameters\n",
    "\n",
    "The scenario mentioned at the start of this section, as well as all other scenarios in Flow, are parameterized by the following arguments: \n",
    "* name\n",
    "* generator_class\n",
    "* vehicles\n",
    "* net_params\n",
    "* initial_config\n",
    "* traffic_lights\n",
    "\n",
    "These parameters are explained in detail in exercise 1. Moreover, all parameters excluding vehicles (covered in section 2.2) do not change from the previous exercise. Accordingly, we specify them as we have before, and leave further explanations of the parameters to exercise 1."
   ]
  },
  {
   "cell_type": "code",
   "execution_count": 1,
   "metadata": {},
   "outputs": [],
   "source": [
    "# ring road scenario class\n",
    "from flow.scenarios.loop.loop_scenario import LoopScenario\n",
    "\n",
    "# ring road generator class\n",
    "from flow.scenarios.loop.gen import CircleGenerator\n",
    "\n",
    "# input parameter classes to the scenario class\n",
    "from flow.core.params import NetParams, InitialConfig\n",
    "\n",
    "# name of the scenario\n",
    "name = \"training_example\"\n",
    "\n",
    "# network-specific parameters\n",
    "from flow.scenarios.loop.loop_scenario import ADDITIONAL_NET_PARAMS\n",
    "net_params = NetParams(additional_params=ADDITIONAL_NET_PARAMS)\n",
    "\n",
    "# initial configuration to vehicles\n",
    "initial_config = InitialConfig(spacing=\"uniform\", perturbation=1)\n",
    "\n",
    "# traffic lights (empty)\n",
    "from flow.core.traffic_lights import TrafficLights\n",
    "traffic_lights = TrafficLights()"
   ]
  },
  {
   "cell_type": "markdown",
   "metadata": {},
   "source": [
    "### 2.2 Adding Trainable Autonomous Vehicles\n",
    "The `Vehicles` class stores state information on all vehicles in the network. This class is used to identify the dynamical features of a vehicle and whether it is controlled by a reinforcement learning agent. Morover, information pertaining to the observations and reward function can be collected from various `get` methods within this class.\n",
    "\n",
    "The dynamics of vehicles in the `Vehicles` class can either be depicted by sumo or by the dynamical methods located in flow/controllers. For human-driven vehicles, we use the IDM model for acceleration behavior, with exogenous gaussian acceleration noise with std 0.2 m/s2 to induce perturbations that produce stop-and-go behavior. In addition, we use the `ContinousRouter` routing controller so that the vehicles may maintain their routes closed networks.\n",
    "\n",
    "As we have done in exercise 1, human-driven vehicles are defined in the `Vehicles` class as follows:"
   ]
  },
  {
   "cell_type": "code",
   "execution_count": 2,
   "metadata": {},
   "outputs": [],
   "source": [
    "# vehicles class\n",
    "from flow.core.vehicles import Vehicles\n",
    "\n",
    "# vehicles dynamics models\n",
    "from flow.controllers import IDMController, ContinuousRouter\n",
    "\n",
    "vehicles = Vehicles()\n",
    "vehicles.add(\"human\",\n",
    "             acceleration_controller=(IDMController, {}),\n",
    "             routing_controller=(ContinuousRouter, {}),\n",
    "             num_vehicles=21)"
   ]
  },
  {
   "cell_type": "markdown",
   "metadata": {},
   "source": [
    "The above addition to the `Vehicles` class only accounts for 21 of the 22 vehicles that are placed in the network. We now add an additional trainable autuonomous vehicle whose actions are dictated by an RL agent. This is done by specifying an `RLController` as the acceleraton controller to the vehicle. "
   ]
  },
  {
   "cell_type": "code",
   "execution_count": 3,
   "metadata": {},
   "outputs": [],
   "source": [
    "from flow.controllers import RLController"
   ]
  },
  {
   "cell_type": "markdown",
   "metadata": {},
   "source": [
    "Note that this controller serves primarirly as a placeholder that marks the vehicle as a component of the RL agent, meaning that lane changing and routing actions can also be specified by the RL agent to this vehicle.\n",
    "\n",
    "We finally add the vehicle as follows, while again using the `ContinuousRouter` to perpetually maintain the vehicle within the network."
   ]
  },
  {
   "cell_type": "code",
   "execution_count": 4,
   "metadata": {},
   "outputs": [],
   "source": [
    "vehicles.add(veh_id=\"rl\",\n",
    "             acceleration_controller=(RLController, {}),\n",
    "             routing_controller=(ContinuousRouter, {}),\n",
    "             num_vehicles=1)"
   ]
  },
  {
   "cell_type": "markdown",
   "metadata": {},
   "source": [
    "### 2.3 Scenario Object\n",
    "\n",
    "We are finally ready to create the scenario object, as we had done in exercise 1."
   ]
  },
  {
   "cell_type": "code",
   "execution_count": 5,
   "metadata": {},
   "outputs": [],
   "source": [
    "scenario = LoopScenario(name=\"ring_example\",\n",
    "                        generator_class=CircleGenerator,\n",
    "                        vehicles=vehicles,\n",
    "                        net_params=net_params,\n",
    "                        initial_config=initial_config,\n",
    "                        traffic_lights=traffic_lights)"
   ]
  },
  {
   "cell_type": "markdown",
   "metadata": {},
   "source": [
    "## 3. Setting up an Environment\n",
    "\n",
    "Several environments in Flow exist to train RL agents of different forms (e.g. autonomous vehicles, traffic lights) to perform a variety of different tasks. The use of an environment allows us to view the cumulative reward simulation rollouts receive, along with to specify the state/action spaces.\n",
    "\n",
    "Envrionments in Flow are parametrized by three components:\n",
    "* env_params\n",
    "* sumo_params\n",
    "* scenario\n",
    "\n",
    "### 3.1 SumoParams\n",
    "`SumoParams` specifies simulation-specific variables. These variables include the length of any simulation step and whether to render the GUI when running the experiment. For this example, we consider a simulation step length of 0.1s and activate the GUI. \n",
    "\n",
    "**Note** For training purposes, it is highly recommanded to deactivate the GUI in order to avoid global slow down. In such case, one just need to specify the following: `sumo_binary=\"sumo\"`"
   ]
  },
  {
   "cell_type": "code",
   "execution_count": 7,
   "metadata": {},
   "outputs": [],
   "source": [
    "from flow.core.params import SumoParams\n",
    "\n",
    "sumo_params = SumoParams(sim_step=0.1, sumo_binary=\"sumo\")"
   ]
  },
  {
   "cell_type": "markdown",
   "metadata": {},
   "source": [
    "### 3.2 EnvParams\n",
    "\n",
    "`EnvParams` specifies environment and experiment-specific parameters that either affect the training process or the dynamics of various components within the scenario. For the environment \"WaveAttenuationPOEnv\", these parameters are used to dictate bounds on the accelerations of the autonomous vehicles, as well as the range of ring lengths (and accordingly network densities) the agent is trained on.\n",
    "\n",
    "Finally, it is important to specify here the *horizon* of the experiment, which is the duration of one episode (during which the RL-agent acquire data). "
   ]
  },
  {
   "cell_type": "code",
   "execution_count": 8,
   "metadata": {},
   "outputs": [],
   "source": [
    "from flow.core.params import EnvParams\n",
    "\n",
    "env_params = EnvParams(\n",
    "    # length of one rollout\n",
    "    horizon=100,\n",
    "\n",
    "    additional_params={\n",
    "        # maximum acceleration of autonomous vehicles\n",
    "        \"max_accel\": 1,\n",
    "        # maximum deceleration of autonomous vehicles\n",
    "        \"max_decel\": 1,\n",
    "        # bounds on the ranges of ring road lengths the autonomous vehicle \n",
    "        # is trained on\n",
    "        \"ring_length\": [220, 270],\n",
    "    },\n",
    ")"
   ]
  },
  {
   "cell_type": "markdown",
   "metadata": {},
   "source": [
    "### 3.3 Initializing a Gym Environments\n",
    "\n",
    "Now, we have to specify our Gym Environment and the algorithm that our RL agents we'll use. To specify the environment, one has to use the environment's name (a simple string). A list of all environment names is located in `flow/envs/__init__.py`. The names of available environments can be seen below."
   ]
  },
  {
   "cell_type": "code",
   "execution_count": 6,
   "metadata": {},
   "outputs": [
    {
     "name": "stdout",
     "output_type": "stream",
     "text": [
      "['Env', 'AccelEnv', 'LaneChangeAccelEnv', 'LaneChangeAccelPOEnv', 'GreenWaveTestEnv', 'GreenWaveEnv', 'WaveAttenuationMergePOEnv', 'TwoLoopsMergeEnv', 'BottleneckEnv', 'BottleNeckAccelEnv', 'WaveAttenuationEnv', 'WaveAttenuationPOEnv']\n"
     ]
    }
   ],
   "source": [
    "import flow.envs as flowenvs\n",
    "\n",
    "print(flowenvs.__all__)"
   ]
  },
  {
   "cell_type": "markdown",
   "metadata": {},
   "source": [
    "We will use the environment \"WaveAttenuationPOEnv\", which is used to train autonomous vehicles to attenuate the formation and propagation of waves in a partially observable variable density ring road. To create the Gym Environment, the only necessary parameters are the environment name plus the previously defined variables. These are defined as follows:"
   ]
  },
  {
   "cell_type": "code",
   "execution_count": 9,
   "metadata": {
    "scrolled": true
   },
   "outputs": [],
   "source": [
    "env_name = \"WaveAttenuationPOEnv\"\n",
    "pass_params = (env_name, sumo_params, vehicles, env_params, net_params,\n",
    "               initial_config, scenario)"
   ]
  },
  {
   "cell_type": "markdown",
   "metadata": {},
   "source": [
    "## 4. Setting up and Running an RL Experiment\n",
    "\n",
    "### 4.1 run_task\n",
    "We begin by creating a `run_task` method, which defines various components of the RL algorithm within rllab, such as the environment, the type of policy, the policy training method, etc.\n",
    "\n",
    "We create the gym environment defined in section 3 using the `GymEnv` function.\n",
    "\n",
    "In this experiment, we use a Gaussian MLP policy: we just need to specify its dimensions `(32,32)` and the environment name. We'll use linear baselines and the Trust Region Policy Optimization (TRPO) algorithm (see https://arxiv.org/abs/1502.05477):\n",
    "- The `batch_size` parameter specifies the size of the batch during one step of the gradient descent. \n",
    "- The `max_path_length` parameter indicates the biggest rollout size possible of the experiment. \n",
    "- The `n_itr` parameter gives the number of iterations used in training the agent.\n",
    "\n",
    "In the following, we regroup all the previous commands in one single cell"
   ]
  },
  {
   "cell_type": "code",
   "execution_count": 10,
   "metadata": {},
   "outputs": [
    {
     "name": "stderr",
     "output_type": "stream",
     "text": [
      "/home/aboudy/anaconda2/envs/flow/lib/python3.5/site-packages/h5py/__init__.py:36: FutureWarning: Conversion of the second argument of issubdtype from `float` to `np.floating` is deprecated. In future, it will be treated as `np.float64 == np.dtype(float).type`.\n",
      "  from ._conv import register_converters as _register_converters\n",
      "/home/aboudy/anaconda2/envs/flow/lib/python3.5/site-packages/theano/tensor/signal/downsample.py:6: UserWarning: downsample module has been moved to the theano.tensor.signal.pool module.\n",
      "  \"downsample module has been moved to the theano.tensor.signal.pool module.\")\n",
      "Traceback (most recent call last):\n",
      "  File \"/home/aboudy/Documents/rllab-multiagent/rllab/envs/gym_env.py\", line 11, in <module>\n",
      "    from gym.wrappers.monitoring import logger as monitor_logger\n",
      "ImportError: cannot import name 'logger'\n"
     ]
    }
   ],
   "source": [
    "from rllab.algos.trpo import TRPO\n",
    "from rllab.baselines.linear_feature_baseline import LinearFeatureBaseline\n",
    "from rllab.policies.gaussian_mlp_policy import GaussianMLPPolicy\n",
    "from rllab.envs.normalized_env import normalize\n",
    "from rllab.envs.gym_env import GymEnv\n",
    "\n",
    "def run_task(*_):\n",
    "    env = GymEnv(env_name, record_video=False, register_params=pass_params)\n",
    "    horizon = env.horizon\n",
    "    env = normalize(env)\n",
    "\n",
    "    policy = GaussianMLPPolicy(\n",
    "        env_spec=env.spec,\n",
    "        hidden_sizes=(32, 32)\n",
    "    )\n",
    "\n",
    "    baseline = LinearFeatureBaseline(env_spec=env.spec)\n",
    "\n",
    "    algo = TRPO(\n",
    "        env=env,\n",
    "        policy=policy,\n",
    "        baseline=baseline,\n",
    "        batch_size=1000,\n",
    "        max_path_length=horizon,\n",
    "        discount=0.999,\n",
    "        n_itr=1,\n",
    "    )\n",
    "    algo.train(),"
   ]
  },
  {
   "cell_type": "markdown",
   "metadata": {},
   "source": [
    "### 4.2 run_experiment_lite\n",
    "\n",
    "Using the above `run_task` method, we will execute the training process using rllab's `run_experiment_lite` methods. In this method, we are able to specify:\n",
    "- The `n_parallel` cores you want to use for your experiment. If you set `n_parallel`>1, two processors will execute your code in parallel which results in a global roughly linear speed-up.\n",
    "- The `snapshot_mode`, which specifies how frequently (blank).\n",
    "- The `mode` which can set to be *local* is you want to run the experiment locally, or to *ec2* for launching the experiment on an Amazon Web Services instance.\n",
    "- The `seed` parameter which calibrates the randomness in the experiment. \n",
    "- The `tag`, or name, for your experiment.\n",
    "\n",
    "Finally, we are ready to begin the training process."
   ]
  },
  {
   "cell_type": "code",
   "execution_count": 11,
   "metadata": {},
   "outputs": [
    {
     "name": "stdout",
     "output_type": "stream",
     "text": [
      "python /home/aboudy/Documents/rllab-multiagent/scripts/run_experiment_lite.py  --variant_data 'gAN9cQBYCAAAAGV4cF9uYW1lcQFYKQAAAHRyYWluaW5nX2V4YW1wbGVfMjAxOF8wNV8yMF8wMl80Ml80NF8wMDAxcQJzLg=='  --use_cloudpickle 'True'  --seed '5'  --n_parallel '1'  --args_data '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'  --exp_name 'training_example_2018_05_20_02_42_44_0001'  --log_dir '/home/aboudy/Documents/rllab-multiagent/data/local/training-example/training_example_2018_05_20_02_42_44_0001'  --snapshot_mode 'all'\n"
     ]
    }
   ],
   "source": [
    "from rllab.misc.instrument import run_experiment_lite\n",
    "\n",
    "for seed in [5]:  # , 20, 68]:\n",
    "    run_experiment_lite(\n",
    "        run_task,\n",
    "        # Number of parallel workers for sampling\n",
    "        n_parallel=1,\n",
    "        # Keeps the snapshot parameters for all iterations\n",
    "        snapshot_mode=\"all\",\n",
    "        # Specifies the seed for the experiment. If this is not provided, a\n",
    "        # random seed will be used\n",
    "        seed=seed,\n",
    "        mode=\"local\",\n",
    "        exp_prefix=\"training_example\",\n",
    "    )"
   ]
  },
  {
   "cell_type": "markdown",
   "metadata": {
    "collapsed": true
   },
   "source": [
    "## Bibliography\n",
    "[1] Yan Duan, Xi Chen, Rein Houthooft, John Schulman, Pieter Abbeel. \"Benchmarking Deep Reinforcement Learning for Continuous Control\". Proceedings of the 33rd International Conference on Machine Learning (ICML), 2016.\n"
   ]
  },
  {
   "cell_type": "code",
   "execution_count": null,
   "metadata": {},
   "outputs": [],
   "source": []
  }
 ],
 "metadata": {
  "kernelspec": {
   "display_name": "Python 3",
   "language": "python",
   "name": "python3"
  },
  "language_info": {
   "codemirror_mode": {
    "name": "ipython",
    "version": 3
   },
   "file_extension": ".py",
   "mimetype": "text/x-python",
   "name": "python",
   "nbconvert_exporter": "python",
   "pygments_lexer": "ipython3",
   "version": "3.5.2"
  },
  "widgets": {
   "state": {},
   "version": "1.1.2"
  }
 },
 "nbformat": 4,
 "nbformat_minor": 2
}
