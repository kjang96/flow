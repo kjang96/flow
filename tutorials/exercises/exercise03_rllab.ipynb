{
 "cells": [
  {
   "cell_type": "markdown",
   "metadata": {},
   "source": [
    "# Exercise 03: Running rllab Experiments\n",
    "\n",
    "This tutorial walks you through the process of running traffic simulations in Flow with trainable rllab-powered agents. Autonomous agents will learn to maximize a certain reward over the rollouts, using the **rllab** library [1]. Simulations of this form will depict the propensity of RL agents to influence the traffic of a human fleet in order to make the whole fleet more efficient (for some given metrics). \n",
    "\n",
    "In this exercise, we simulate an initially perturbed single lane ring road, where we introduce a single autonomous vehicle. We witness that, after some training, that the autonomous vehicle learns to dissipate the formation and propagation of \"phantom jams\" which form when only human driver dynamics are involved.\n",
    "\n",
    "## 1. Components of a Simulation\n",
    "All simulations, both in the presence and absence of RL, require two components: a *scenario*, and an *environment*. Scenarios describe the features of the transportation network used in simulation. This includes the positions and properties of nodes and edges constituting the lanes and junctions, as well as properties of the vehicles, traffic lights, inflows, etc... in the network. Environments, on the other hand, initialize, reset, and advance simulations, and act as the primary interface between the reinforcement learning algorithm and the scenario. Moreover, custom environments may be used to modify the dynamical features of an scenario. Finally, in the RL case, it is in the *environment* that the state/action spaces and the reward function are defined. \n",
    "\n",
    "## 2. Setting up a Scenario\n",
    "Flow contains a plethora of pre-designed scenarios used to replicate highways, intersections, and merges in both closed and open settings. All these scenarios are located in flow/scenarios. For this exercise, which involves a single lane ring road, we will use the scenario `LoopScenario`.\n",
    "\n",
    "### 2.1 Setting up Scenario Parameters\n",
    "\n",
    "The scenario mentioned at the start of this section, as well as all other scenarios in Flow, are parameterized by the following arguments: \n",
    "* name\n",
    "* generator_class\n",
    "* vehicles\n",
    "* net_params\n",
    "* initial_config\n",
    "* traffic_lights\n",
    "\n",
    "These parameters are explained in detail in exercise 1. Moreover, all parameters excluding vehicles (covered in section 2.2) do not change from the previous exercise. Accordingly, we specify them as we have before, and leave further explanations of the parameters to exercise 1."
   ]
  },
  {
   "cell_type": "code",
   "execution_count": 1,
   "metadata": {
    "collapsed": true
   },
   "outputs": [],
   "source": [
    "# ring road scenario class\n",
    "from flow.scenarios.loop.loop_scenario import LoopScenario\n",
    "\n",
    "# ring road generator class\n",
    "from flow.scenarios.loop.gen import CircleGenerator\n",
    "\n",
    "# input parameter classes to the scenario class\n",
    "from flow.core.params import NetParams, InitialConfig\n",
    "\n",
    "# name of the scenario\n",
    "name = \"training_example\"\n",
    "\n",
    "# network-specific parameters\n",
    "from flow.scenarios.loop.loop_scenario import ADDITIONAL_NET_PARAMS\n",
    "net_params = NetParams(additional_params=ADDITIONAL_NET_PARAMS)\n",
    "\n",
    "# initial configuration to vehicles\n",
    "initial_config = InitialConfig(spacing=\"uniform\", perturbation=1)\n",
    "\n",
    "# traffic lights (empty)\n",
    "from flow.core.traffic_lights import TrafficLights\n",
    "traffic_lights = TrafficLights()"
   ]
  },
  {
   "cell_type": "markdown",
   "metadata": {},
   "source": [
    "### 2.2 Adding Trainable Autonomous Vehicles\n",
    "The `Vehicles` class stores state information on all vehicles in the network. This class is used to identify the dynamical features of a vehicle and whether it is controlled by a reinforcement learning agent. Morover, information pertaining to the observations and reward function can be collected from various `get` methods within this class.\n",
    "\n",
    "The dynamics of vehicles in the `Vehicles` class can either be depicted by sumo or by the dynamical methods located in flow/controllers. For human-driven vehicles, we use the IDM model for acceleration behavior, with exogenous gaussian acceleration noise with std 0.2 m/s2 to induce perturbations that produce stop-and-go behavior. In addition, we use the `ContinousRouter` routing controller so that the vehicles may maintain their routes closed networks.\n",
    "\n",
    "As we have done in exercise 1, human-driven vehicles are defined in the `Vehicles` class as follows:"
   ]
  },
  {
   "cell_type": "code",
   "execution_count": 2,
   "metadata": {
    "collapsed": true
   },
   "outputs": [],
   "source": [
    "# vehicles class\n",
    "from flow.core.vehicles import Vehicles\n",
    "\n",
    "# vehicles dynamics models\n",
    "from flow.controllers import IDMController, ContinuousRouter\n",
    "\n",
    "vehicles = Vehicles()\n",
    "vehicles.add(\"human\",\n",
    "             acceleration_controller=(IDMController, {}),\n",
    "             routing_controller=(ContinuousRouter, {}),\n",
    "             num_vehicles=21)"
   ]
  },
  {
   "cell_type": "markdown",
   "metadata": {},
   "source": [
    "The above addition to the `Vehicles` class only accounts for 21 of the 22 vehicles that are placed in the network. We now add an additional trainable autuonomous vehicle whose actions are dictated by an RL agent. This is done by specifying an `RLController` as the acceleraton controller to the vehicle. "
   ]
  },
  {
   "cell_type": "code",
   "execution_count": 3,
   "metadata": {
    "collapsed": true
   },
   "outputs": [],
   "source": [
    "from flow.controllers import RLController"
   ]
  },
  {
   "cell_type": "markdown",
   "metadata": {},
   "source": [
    "Note that this controller serves primarirly as a placeholder that marks the vehicle as a component of the RL agent, meaning that lane changing and routing actions can also be specified by the RL agent to this vehicle.\n",
    "\n",
    "We finally add the vehicle as follows, while again using the `ContinuousRouter` to perpetually maintain the vehicle within the network."
   ]
  },
  {
   "cell_type": "code",
   "execution_count": 4,
   "metadata": {
    "collapsed": true
   },
   "outputs": [],
   "source": [
    "vehicles.add(veh_id=\"rl\",\n",
    "             acceleration_controller=(RLController, {}),\n",
    "             routing_controller=(ContinuousRouter, {}),\n",
    "             num_vehicles=1)"
   ]
  },
  {
   "cell_type": "markdown",
   "metadata": {},
   "source": [
    "### 2.3 Scenario Object\n",
    "\n",
    "We are finally ready to create the scenario object, as we had done in exercise 1."
   ]
  },
  {
   "cell_type": "code",
   "execution_count": 5,
   "metadata": {
    "collapsed": true
   },
   "outputs": [],
   "source": [
    "scenario = LoopScenario(name=\"ring_example\",\n",
    "                        generator_class=CircleGenerator,\n",
    "                        vehicles=vehicles,\n",
    "                        net_params=net_params,\n",
    "                        initial_config=initial_config,\n",
    "                        traffic_lights=traffic_lights)"
   ]
  },
  {
   "cell_type": "markdown",
   "metadata": {},
   "source": [
    "## 3. Setting up an Environment\n",
    "\n",
    "Several environments in Flow exist to train RL agents of different forms (e.g. autonomous vehicles, traffic lights) to perform a variety of different tasks. The use of an environment allows us to view the cumulative reward simulation rollouts receive, along with to specify the state/action spaces.\n",
    "\n",
    "Envrionments in Flow are parametrized by three components:\n",
    "* env_params\n",
    "* sumo_params\n",
    "* scenario\n",
    "\n",
    "### 3.1 SumoParams\n",
    "`SumoParams` specifies simulation-specific variables. These variables include the length of any simulation step and whether to render the GUI when running the experiment. For this example, we consider a simulation step length of 0.1s and activate the GUI. \n",
    "\n",
    "**Note** For training purposes, it is highly recommanded to deactivate the GUI in order to avoid global slow down. In such case, one just needs to specify the following: `sumo_binary=\"sumo\"`"
   ]
  },
  {
   "cell_type": "code",
   "execution_count": 6,
   "metadata": {
    "collapsed": true
   },
   "outputs": [],
   "source": [
    "from flow.core.params import SumoParams\n",
    "\n",
    "sumo_params = SumoParams(sim_step=0.1, sumo_binary=\"sumo\")"
   ]
  },
  {
   "cell_type": "markdown",
   "metadata": {},
   "source": [
    "### 3.2 EnvParams\n",
    "\n",
    "`EnvParams` specifies environment and experiment-specific parameters that either affect the training process or the dynamics of various components within the scenario. For the environment \"WaveAttenuationPOEnv\", these parameters are used to dictate bounds on the accelerations of the autonomous vehicles, as well as the range of ring lengths (and accordingly network densities) the agent is trained on.\n",
    "\n",
    "Finally, it is important to specify here the *horizon* of the experiment, which is the duration of one episode (during which the RL-agent acquire data). "
   ]
  },
  {
   "cell_type": "code",
   "execution_count": 7,
   "metadata": {
    "collapsed": true
   },
   "outputs": [],
   "source": [
    "from flow.core.params import EnvParams\n",
    "\n",
    "env_params = EnvParams(\n",
    "    # length of one rollout\n",
    "    horizon=100,\n",
    "\n",
    "    additional_params={\n",
    "        # maximum acceleration of autonomous vehicles\n",
    "        \"max_accel\": 1,\n",
    "        # maximum deceleration of autonomous vehicles\n",
    "        \"max_decel\": 1,\n",
    "        # bounds on the ranges of ring road lengths the autonomous vehicle \n",
    "        # is trained on\n",
    "        \"ring_length\": [220, 270],\n",
    "    },\n",
    ")"
   ]
  },
  {
   "cell_type": "markdown",
   "metadata": {},
   "source": [
    "### 3.3 Initializing a Gym Environment\n",
    "\n",
    "Now, we have to specify our Gym Environment and the algorithm that our RL agents will use. To specify the environment, one has to use the environment's name (a simple string). A list of all environment names is located in `flow/envs/__init__.py`. The names of available environments can be seen below."
   ]
  },
  {
   "cell_type": "code",
   "execution_count": 8,
   "metadata": {},
   "outputs": [
    {
     "name": "stdout",
     "output_type": "stream",
     "text": [
      "['Env', 'AccelEnv', 'LaneChangeAccelEnv', 'LaneChangeAccelPOEnv', 'GreenWaveTestEnv', 'GreenWaveEnv', 'WaveAttenuationMergePOEnv', 'TwoLoopsMergeEnv', 'BottleneckEnv', 'BottleNeckAccelEnv', 'WaveAttenuationEnv', 'WaveAttenuationPOEnv']\n"
     ]
    }
   ],
   "source": [
    "import flow.envs as flowenvs\n",
    "\n",
    "print(flowenvs.__all__)"
   ]
  },
  {
   "cell_type": "markdown",
   "metadata": {},
   "source": [
    "We will use the environment \"WaveAttenuationPOEnv\", which is used to train autonomous vehicles to attenuate the formation and propagation of waves in a partially observable variable density ring road. To create the Gym Environment, the only necessary parameters are the environment name plus the previously defined variables. These are defined as follows:"
   ]
  },
  {
   "cell_type": "code",
   "execution_count": 9,
   "metadata": {
    "collapsed": true,
    "scrolled": true
   },
   "outputs": [],
   "source": [
    "env_name = \"WaveAttenuationPOEnv\"\n",
    "pass_params = (env_name, sumo_params, vehicles, env_params, net_params,\n",
    "               initial_config, scenario)"
   ]
  },
  {
   "cell_type": "markdown",
   "metadata": {},
   "source": [
    "## 4. Setting up and Running an RL Experiment\n",
    "\n",
    "### 4.1 run_task\n",
    "We begin by creating a `run_task` method, which defines various components of the RL algorithm within rllab, such as the environment, the type of policy, the policy training method, etc.\n",
    "\n",
    "We create the Gym environment defined in section 3 using the `GymEnv` function.\n",
    "\n",
    "In this experiment, we use a Gaussian MLP policy: we just need to specify its dimensions `(32,32)` and the environment name. We'll use linear baselines and the Trust Region Policy Optimization (TRPO) algorithm (see https://arxiv.org/abs/1502.05477):\n",
    "- The `batch_size` parameter specifies the size of the batch during one step of the gradient descent. \n",
    "- The `max_path_length` parameter indicates the biggest rollout size possible of the experiment. \n",
    "- The `n_itr` parameter gives the number of iterations used in training the agent.\n",
    "\n",
    "In the following, we regroup all the previous commands in one single cell"
   ]
  },
  {
   "cell_type": "code",
   "execution_count": 10,
   "metadata": {},
   "outputs": [
    {
     "name": "stderr",
     "output_type": "stream",
     "text": [
      "/Users/nishant/anaconda3/envs/flow/lib/python3.5/importlib/_bootstrap.py:222: RuntimeWarning: compiletime version 3.6 of module 'tensorflow.python.framework.fast_tensor_util' does not match runtime version 3.5\n",
      "  return f(*args, **kwds)\n",
      "/Users/nishant/anaconda3/envs/flow/lib/python3.5/site-packages/h5py/__init__.py:34: FutureWarning: Conversion of the second argument of issubdtype from `float` to `np.floating` is deprecated. In future, it will be treated as `np.float64 == np.dtype(float).type`.\n",
      "  from ._conv import register_converters as _register_converters\n",
      "/Users/nishant/anaconda3/envs/flow/lib/python3.5/site-packages/theano/tensor/signal/downsample.py:6: UserWarning: downsample module has been moved to the theano.tensor.signal.pool module.\n",
      "  \"downsample module has been moved to the theano.tensor.signal.pool module.\")\n",
      "Traceback (most recent call last):\n",
      "  File \"/Users/nishant/Development/research/rllab-multiagent/rllab/envs/gym_env.py\", line 11, in <module>\n",
      "    from gym.wrappers.monitoring import logger as monitor_logger\n",
      "ImportError: cannot import name 'logger'\n"
     ]
    }
   ],
   "source": [
    "from rllab.algos.trpo import TRPO\n",
    "from rllab.baselines.linear_feature_baseline import LinearFeatureBaseline\n",
    "from rllab.policies.gaussian_mlp_policy import GaussianMLPPolicy\n",
    "from rllab.envs.normalized_env import normalize\n",
    "from rllab.envs.gym_env import GymEnv\n",
    "\n",
    "def run_task(*_):\n",
    "    env = GymEnv(env_name, record_video=False, register_params=pass_params)\n",
    "    horizon = env.horizon\n",
    "    env = normalize(env)\n",
    "\n",
    "    policy = GaussianMLPPolicy(\n",
    "        env_spec=env.spec,\n",
    "        hidden_sizes=(32, 32)\n",
    "    )\n",
    "\n",
    "    baseline = LinearFeatureBaseline(env_spec=env.spec)\n",
    "\n",
    "    algo = TRPO(\n",
    "        env=env,\n",
    "        policy=policy,\n",
    "        baseline=baseline,\n",
    "        batch_size=1000,\n",
    "        max_path_length=horizon,\n",
    "        discount=0.999,\n",
    "        n_itr=1,\n",
    "    )\n",
    "    algo.train(),"
   ]
  },
  {
   "cell_type": "markdown",
   "metadata": {},
   "source": [
    "### 4.2 run_experiment_lite\n",
    "\n",
    "Using the above `run_task` method, we will execute the training process using rllab's `run_experiment_lite` methods. In this method, we are able to specify:\n",
    "- The `n_parallel` cores you want to use for your experiment. If you set `n_parallel`>1, two processors will execute your code in parallel which results in a global roughly linear speed-up.\n",
    "- The `snapshot_mode`, which specifies how frequently (blank).\n",
    "- The `mode` which can set to be *local* is you want to run the experiment locally, or to *ec2* for launching the experiment on an Amazon Web Services instance.\n",
    "- The `seed` parameter which calibrates the randomness in the experiment. \n",
    "- The `tag`, or name, for your experiment.\n",
    "\n",
    "Finally, we are ready to begin the training process."
   ]
  },
  {
   "cell_type": "code",
   "execution_count": 11,
   "metadata": {},
   "outputs": [
    {
     "name": "stdout",
     "output_type": "stream",
     "text": [
      "python /Users/nishant/Development/research/rllab-multiagent/scripts/run_experiment_lite.py  --log_dir '/Users/nishant/Development/research/rllab-multiagent/data/local/training-example/training_example_2018_06_05_17_00_38_0001'  --exp_name 'training_example_2018_06_05_17_00_38_0001'  --variant_data 'gAN9cQBYCAAAAGV4cF9uYW1lcQFYKQAAAHRyYWluaW5nX2V4YW1wbGVfMjAxOF8wNl8wNV8xN18wMF8zOF8wMDAxcQJzLg=='  --snapshot_mode 'all'  --use_cloudpickle 'True'  --seed '5'  --n_parallel '1'  --args_data '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'\n"
     ]
    }
   ],
   "source": [
    "from rllab.misc.instrument import run_experiment_lite\n",
    "\n",
    "for seed in [5]:  # , 20, 68]:\n",
    "    run_experiment_lite(\n",
    "        run_task,\n",
    "        # Number of parallel workers for sampling\n",
    "        n_parallel=1,\n",
    "        # Keeps the snapshot parameters for all iterations\n",
    "        snapshot_mode=\"all\",\n",
    "        # Specifies the seed for the experiment. If this is not provided, a\n",
    "        # random seed will be used\n",
    "        seed=seed,\n",
    "        mode=\"local\",\n",
    "        exp_prefix=\"training_example\",\n",
    "    )"
   ]
  },
  {
   "cell_type": "markdown",
   "metadata": {
    "collapsed": true
   },
   "source": [
    "## Bibliography\n",
    "[1] Yan Duan, Xi Chen, Rein Houthooft, John Schulman, Pieter Abbeel. \"Benchmarking Deep Reinforcement Learning for Continuous Control\". Proceedings of the 33rd International Conference on Machine Learning (ICML), 2016.\n"
   ]
  },
  {
   "cell_type": "code",
   "execution_count": null,
   "metadata": {
    "collapsed": true
   },
   "outputs": [],
   "source": []
  }
 ],
 "metadata": {
  "kernelspec": {
   "display_name": "Python 3",
   "language": "python",
   "name": "python3"
  },
  "language_info": {
   "codemirror_mode": {
    "name": "ipython",
    "version": 3
   },
   "file_extension": ".py",
   "mimetype": "text/x-python",
   "name": "python",
   "nbconvert_exporter": "python",
   "pygments_lexer": "ipython3",
   "version": "3.5.2"
  },
  "widgets": {
   "state": {},
   "version": "1.1.2"
  }
 },
 "nbformat": 4,
 "nbformat_minor": 2
}
