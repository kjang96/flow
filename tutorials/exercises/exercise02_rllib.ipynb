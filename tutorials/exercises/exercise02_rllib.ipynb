{
 "cells": [
  {
   "cell_type": "markdown",
   "metadata": {},
   "source": [
    "# Exercise 02: Running RLlib Experiments"
   ]
  },
  {
   "cell_type": "markdown",
   "metadata": {},
   "source": [
    "This tutorial walks you through the process of running traffic simulations in Flow with trainable RLlib-powered agents. Autonomous agents will learn to maximize a certain reward over the rollouts, using the **RLlib** library. Simulations of this form will depict the propensity of RL agents to influence the traffic of a human fleet in order to make the whole fleet more efficient (for some given metrics). \n",
    "\n",
    "In this exercise, we simulate an initially perturbed single lane ring road, where we introduce a single autonomous vehicle. We witness that, after some training, that the autonomous vehicle learns to dissipate the formation and propagation of \"phantom jams\" which form when only human driver dynamics are involved.\n",
    "\n",
    "## 1. Components of a Simulation\n",
    "All simulations, both in the presence and absence of RL, require two components: a *scenario*, and an *environment*. Scenarios describe the features of the transportation network used in simulation. This includes the positions and properties of nodes and edges constituting the lanes and junctions, as well as properties of the vehicles, traffic lights, inflows, etc... in the network. Environments, on the other hand, initialize, reset, and advance simulations, and act as the primary interface between the reinforcement learning algorithm and the scenario. Moreover, custom environments may be used to modify the dynamical features of an scenario. Finally, in the RL case, it is in the *environment* that the state/action spaces and the reward function are defined. \n",
    "\n",
    "## 2. Setting up a Scenario\n",
    "Flow contains a plethora of pre-designed scenarios used to replicate highways, intersections, and merges in both closed and open settings. All these scenarios are located in flow/scenarios. For this exercise, which involves a single lane ring road, we will use the scenario `LoopScenario`.\n",
    "\n",
    "### 2.1 Setting up Scenario Parameters\n",
    "\n",
    "The scenario mentioned at the start of this section, as well as all other scenarios in Flow, are parameterized by the following arguments: \n",
    "* name\n",
    "* generator_class\n",
    "* vehicles\n",
    "* net_params\n",
    "* initial_config\n",
    "\n",
    "These parameters are explained in detail in exercise 1. Moreover, all parameters excluding vehicles (covered in section 2.2) do not change from the previous exercise. Accordingly, we specify them as we have before, and leave further explanations of the parameters to exercise 1."
   ]
  },
  {
   "cell_type": "code",
   "execution_count": 1,
   "metadata": {
    "collapsed": true
   },
   "outputs": [],
   "source": [
    "# ring road scenario class\n",
    "scenario_name = \"LoopScenario\"\n",
    "\n",
    "# ring road generator class\n",
    "generator_name = \"CircleGenerator\"\n",
    "\n",
    "# input parameter classes to the scenario class\n",
    "from flow.core.params import NetParams, InitialConfig\n",
    "\n",
    "# name of the scenario\n",
    "name = \"training_example\"\n",
    "\n",
    "# network-specific parameters\n",
    "from flow.scenarios.loop.loop_scenario import ADDITIONAL_NET_PARAMS\n",
    "net_params = NetParams(additional_params=ADDITIONAL_NET_PARAMS)\n",
    "\n",
    "# initial configuration to vehicles\n",
    "initial_config = InitialConfig(spacing=\"uniform\", perturbation=1)"
   ]
  },
  {
   "cell_type": "markdown",
   "metadata": {},
   "source": [
    "### 2.2 Adding Trainable Autonomous Vehicles\n",
    "The `Vehicles` class stores state information on all vehicles in the network. This class is used to identify the dynamical features of a vehicle and whether it is controlled by a reinforcement learning agent. Morover, information pertaining to the observations and reward function can be collected from various `get` methods within this class.\n",
    "\n",
    "The dynamics of vehicles in the `Vehicles` class can either be depicted by sumo or by the dynamical methods located in flow/controllers. For human-driven vehicles, we use the IDM model for acceleration behavior, with exogenous gaussian acceleration noise with std 0.2 m/s2 to induce perturbations that produce stop-and-go behavior. In addition, we use the `ContinousRouter` routing controller so that the vehicles may maintain their routes closed networks.\n",
    "\n",
    "As we have done in exercise 1, human-driven vehicles are defined in the `Vehicles` class as follows:"
   ]
  },
  {
   "cell_type": "code",
   "execution_count": 2,
   "metadata": {
    "collapsed": true
   },
   "outputs": [],
   "source": [
    "# vehicles class\n",
    "from flow.core.vehicles import Vehicles\n",
    "\n",
    "# vehicles dynamics models\n",
    "from flow.controllers import IDMController, ContinuousRouter\n",
    "\n",
    "vehicles = Vehicles()\n",
    "vehicles.add(\"human\",\n",
    "             acceleration_controller=(IDMController, {}),\n",
    "             routing_controller=(ContinuousRouter, {}),\n",
    "             num_vehicles=21)"
   ]
  },
  {
   "cell_type": "markdown",
   "metadata": {},
   "source": [
    "The above addition to the `Vehicles` class only accounts for 21 of the 22 vehicles that are placed in the network. We now add an additional trainable autuonomous vehicle whose actions are dictated by an RL agent. This is done by specifying an `RLController` as the acceleraton controller to the vehicle. "
   ]
  },
  {
   "cell_type": "code",
   "execution_count": 3,
   "metadata": {
    "collapsed": true
   },
   "outputs": [],
   "source": [
    "from flow.controllers import RLController"
   ]
  },
  {
   "cell_type": "markdown",
   "metadata": {},
   "source": [
    "Note that this controller serves primarirly as a placeholder that marks the vehicle as a component of the RL agent, meaning that lane changing and routing actions can also be specified by the RL agent to this vehicle.\n",
    "\n",
    "We finally add the vehicle as follows, while again using the `ContinuousRouter` to perpetually maintain the vehicle within the network."
   ]
  },
  {
   "cell_type": "code",
   "execution_count": 4,
   "metadata": {
    "collapsed": true
   },
   "outputs": [],
   "source": [
    "vehicles.add(veh_id=\"rl\",\n",
    "             acceleration_controller=(RLController, {}),\n",
    "             routing_controller=(ContinuousRouter, {}),\n",
    "             num_vehicles=1)"
   ]
  },
  {
   "cell_type": "markdown",
   "metadata": {},
   "source": [
    "## 3. Setting up an Environment\n",
    "\n",
    "Several environments in Flow exist to train RL agents of different forms (e.g. autonomous vehicles, traffic lights) to perform a variety of different tasks. The use of an environment allows us to view the cumulative reward simulation rollouts receive, along with to specify the state/action spaces.\n",
    "\n",
    "Envrionments in Flow are parametrized by three components:\n",
    "* env_params\n",
    "* sumo_params\n",
    "* scenario\n",
    "\n",
    "### 3.1 SumoParams\n",
    "`SumoParams` specifies simulation-specific variables. These variables include the length of any simulation step and whether to render the GUI when running the experiment. For this example, we consider a simulation step length of 0.1s and activate the GUI. \n",
    "\n",
    "**Note** For training purposes, it is highly recommanded to deactivate the GUI in order to avoid global slow down. In such case, one just need to specify the following: `sumo_binary=\"sumo\"`"
   ]
  },
  {
   "cell_type": "code",
   "execution_count": 5,
   "metadata": {
    "collapsed": true
   },
   "outputs": [],
   "source": [
    "from flow.core.params import SumoParams\n",
    "\n",
    "sumo_params = SumoParams(sim_step=0.1, sumo_binary=\"sumo\")"
   ]
  },
  {
   "cell_type": "markdown",
   "metadata": {},
   "source": [
    "### 3.2 EnvParams\n",
    "\n",
    "`EnvParams` specifies environment and experiment-specific parameters that either affect the training process or the dynamics of various components within the scenario. For the environment \"WaveAttenuationPOEnv\", these parameters are used to dictate bounds on the accelerations of the autonomous vehicles, as well as the range of ring lengths (and accordingly network densities) the agent is trained on.\n",
    "\n",
    "Finally, it is important to specify here the *horizon* of the experiment, which is the duration of one episode (during which the RL-agent acquire data). "
   ]
  },
  {
   "cell_type": "code",
   "execution_count": 6,
   "metadata": {
    "collapsed": true
   },
   "outputs": [],
   "source": [
    "from flow.core.params import EnvParams\n",
    "\n",
    "HORIZON=100\n",
    "\n",
    "env_params = EnvParams(\n",
    "    # length of one rollout\n",
    "    horizon=HORIZON,\n",
    "\n",
    "    additional_params={\n",
    "        # maximum acceleration of autonomous vehicles\n",
    "        \"max_accel\": 1,\n",
    "        # maximum deceleration of autonomous vehicles\n",
    "        \"max_decel\": 1,\n",
    "        # bounds on the ranges of ring road lengths the autonomous vehicle \n",
    "        # is trained on\n",
    "        \"ring_length\": [220, 270],\n",
    "    },\n",
    ")"
   ]
  },
  {
   "cell_type": "markdown",
   "metadata": {},
   "source": [
    "### 3.3 Initializing a Gym Environment\n",
    "\n",
    "Now, we have to specify our Gym Environment and the algorithm that our RL agents will use. To specify the environment, one has to use the environment's name (a simple string). A list of all environment names is located in `flow/envs/__init__.py`. The names of available environments can be seen below."
   ]
  },
  {
   "cell_type": "code",
   "execution_count": 7,
   "metadata": {},
   "outputs": [
    {
     "name": "stdout",
     "output_type": "stream",
     "text": [
      "['Env', 'AccelEnv', 'LaneChangeAccelEnv', 'LaneChangeAccelPOEnv', 'GreenWaveTestEnv', 'GreenWaveEnv', 'WaveAttenuationMergePOEnv', 'TwoLoopsMergeEnv', 'BottleneckEnv', 'BottleNeckAccelEnv', 'WaveAttenuationEnv', 'WaveAttenuationPOEnv']\n"
     ]
    }
   ],
   "source": [
    "import flow.envs as flowenvs\n",
    "\n",
    "print(flowenvs.__all__)"
   ]
  },
  {
   "cell_type": "markdown",
   "metadata": {},
   "source": [
    "We will use the environment \"WaveAttenuationPOEnv\", which is used to train autonomous vehicles to attenuate the formation and propagation of waves in a partially observable variable density ring road. To create the Gym Environment, the only necessary parameters are the environment name plus the previously defined variables. These are defined as follows:"
   ]
  },
  {
   "cell_type": "code",
   "execution_count": 8,
   "metadata": {
    "scrolled": true
   },
   "outputs": [],
   "source": [
    "env_name = \"WaveAttenuationPOEnv\""
   ]
  },
  {
   "cell_type": "markdown",
   "metadata": {},
   "source": [
    "### 4 Setting up Flow Parameters\n",
    "\n",
    "Explain `flow_params` here and `make_create_env`"
   ]
  },
  {
   "cell_type": "code",
   "execution_count": 9,
   "metadata": {},
   "outputs": [],
   "source": [
    "flow_params = dict(\n",
    "    exp_tag=name,\n",
    "    env_name=env_name,\n",
    "    scenario=scenario_name,\n",
    "    generator=generator_name,\n",
    "    sumo=sumo_params,\n",
    "    env=env_params,\n",
    "    net=net_params,\n",
    "    veh=vehicles,\n",
    "    initial=initial_config)"
   ]
  },
  {
   "cell_type": "code",
   "execution_count": 10,
   "metadata": {},
   "outputs": [
    {
     "data": {
      "text/plain": [
       "{'env': <flow.core.params.EnvParams at 0x11020aa58>,\n",
       " 'env_name': 'WaveAttenuationPOEnv',\n",
       " 'exp_tag': 'training_example',\n",
       " 'generator': 'CircleGenerator',\n",
       " 'initial': <flow.core.params.InitialConfig at 0x10662d320>,\n",
       " 'net': <flow.core.params.NetParams at 0x10662d2b0>,\n",
       " 'scenario': 'LoopScenario',\n",
       " 'sumo': <flow.core.params.SumoParams at 0x10662d0b8>,\n",
       " 'veh': <flow.core.vehicles.Vehicles at 0x10664e5c0>}"
      ]
     },
     "execution_count": 10,
     "metadata": {},
     "output_type": "execute_result"
    }
   ],
   "source": [
    "flow_params"
   ]
  },
  {
   "cell_type": "markdown",
   "metadata": {},
   "source": [
    "### 5 Running in Ray\n",
    "Explanation here"
   ]
  },
  {
   "cell_type": "code",
   "execution_count": 11,
   "metadata": {},
   "outputs": [
    {
     "name": "stderr",
     "output_type": "stream",
     "text": [
      "/Users/nishant/anaconda3/envs/flow/lib/python3.5/importlib/_bootstrap.py:222: RuntimeWarning: compiletime version 3.6 of module 'tensorflow.python.framework.fast_tensor_util' does not match runtime version 3.5\n",
      "  return f(*args, **kwds)\n",
      "/Users/nishant/anaconda3/envs/flow/lib/python3.5/site-packages/h5py/__init__.py:34: FutureWarning: Conversion of the second argument of issubdtype from `float` to `np.floating` is deprecated. In future, it will be treated as `np.float64 == np.dtype(float).type`.\n",
      "  from ._conv import register_converters as _register_converters\n"
     ]
    }
   ],
   "source": [
    "import json\n",
    "\n",
    "import ray\n",
    "import ray.rllib.ppo as ppo\n",
    "from ray.tune import run_experiments\n",
    "from ray.tune.registry import register_env\n",
    "\n",
    "from flow.utils.rllib import make_create_env, FlowParamsEncoder"
   ]
  },
  {
   "cell_type": "code",
   "execution_count": 12,
   "metadata": {},
   "outputs": [
    {
     "name": "stdout",
     "output_type": "stream",
     "text": [
      "Process STDOUT and STDERR is being redirected to /tmp/raylogs/.\n",
      "Waiting for redis server at 127.0.0.1:63546 to respond...\n",
      "Waiting for redis server at 127.0.0.1:61018 to respond...\n",
      "Starting local scheduler with the following resources: {'GPU': 0, 'CPU': 2}.\n",
      "\n",
      "======================================================================\n",
      "View the web UI at http://localhost:8889/notebooks/ray_ui42024.ipynb?token=e7812e62b34843c494ff6254189a1a30f00712901562ef4e\n",
      "======================================================================\n",
      "\n"
     ]
    }
   ],
   "source": [
    "# number of parallel workers\n",
    "PARALLEL_ROLLOUTS = 2\n",
    "# number of rollouts per training iteration\n",
    "N_ROLLOUTS = 20\n",
    "\n",
    "ray.init(num_cpus=PARALLEL_ROLLOUTS, redirect_output=True)\n",
    "\n",
    "config=ppo.DEFAULT_CONFIG.copy()\n",
    "config[\"num_workers\"] = PARALLEL_ROLLOUTS\n",
    "config[\"timesteps_per_batch\"] = HORIZON * N_ROLLOUTS\n",
    "config[\"gamma\"] = 0.999  # discount rate\n",
    "config[\"model\"].update({\"fcnet_hiddens\": [16, 16]})\n",
    "config[\"use_gae\"] = True\n",
    "config[\"lambda\"] = 0.97\n",
    "config[\"sgd_batchsize\"] = min(16 * 1024, config[\"timesteps_per_batch\"])\n",
    "config[\"kl_target\"] = 0.02\n",
    "config[\"num_sgd_iter\"] = 10\n",
    "config[\"horizon\"] = HORIZON"
   ]
  },
  {
   "cell_type": "code",
   "execution_count": 13,
   "metadata": {
    "collapsed": true
   },
   "outputs": [],
   "source": [
    "# save the flow params for replay\n",
    "flow_json = json.dumps(flow_params, cls=FlowParamsEncoder, sort_keys=True,\n",
    "                       indent=4)\n",
    "config['env_config']['flow_params'] = flow_json"
   ]
  },
  {
   "cell_type": "code",
   "execution_count": 14,
   "metadata": {},
   "outputs": [],
   "source": [
    "create_env, env_name = make_create_env(params=flow_params, version=0)\n",
    "# Register as rllib env\n",
    "register_env(env_name, create_env)"
   ]
  },
  {
   "cell_type": "code",
   "execution_count": 15,
   "metadata": {
    "scrolled": false
   },
   "outputs": [
    {
     "name": "stdout",
     "output_type": "stream",
     "text": [
      "== Status ==\n",
      "Using FIFO scheduling algorithm.\n",
      "Result logdir: /Users/nishant/ray_results/ring_stabilize\n",
      "PENDING trials:\n",
      " - PPO_WaveAttenuationPOEnv-v0_0:\tPENDING\n",
      " - PPO_WaveAttenuationPOEnv-v0_1:\tPENDING\n",
      " - PPO_WaveAttenuationPOEnv-v0_2:\tPENDING\n",
      "\n",
      "Created LogSyncer for /Users/nishant/ray_results/ring_stabilize/PPO_WaveAttenuationPOEnv-v0_0_2018-06-05_13-20-544g72xv0w -> \n",
      "WARNING: Serializing objects of type <class 'ray.tune.registry._Registry'> by expanding them as dictionaries of their fields. This behavior may be incorrect in some cases.\n",
      "== Status ==\n",
      "Using FIFO scheduling algorithm.\n",
      "Resources requested: 2/2 CPUs, 0/0 GPUs\n",
      "Result logdir: /Users/nishant/ray_results/ring_stabilize\n",
      "PENDING trials:\n",
      " - PPO_WaveAttenuationPOEnv-v0_1:\tPENDING\n",
      " - PPO_WaveAttenuationPOEnv-v0_2:\tPENDING\n",
      "RUNNING trials:\n",
      " - PPO_WaveAttenuationPOEnv-v0_0:\tRUNNING\n",
      "\n",
      "Remote function \u001b[31m__init__\u001b[39m failed with:\n",
      "\n",
      "Traceback (most recent call last):\n",
      "  File \"/Users/nishant/Development/research/ray/python/ray/worker.py\", line 862, in _process_task\n",
      "    *arguments)\n",
      "  File \"/Users/nishant/Development/research/ray/python/ray/actor.py\", line 245, in actor_method_executor\n",
      "    method_returns = method(actor, *args)\n",
      "  File \"/Users/nishant/Development/research/ray/python/ray/rllib/agent.py\", line 84, in __init__\n",
      "    Trainable.__init__(self, config, registry, logger_creator)\n",
      "  File \"/Users/nishant/Development/research/ray/python/ray/tune/trainable.py\", line 90, in __init__\n",
      "    self._setup()\n",
      "  File \"/Users/nishant/Development/research/ray/python/ray/rllib/agent.py\", line 91, in _setup\n",
      "    self.env_creator = self.registry.get(ENV_CREATOR, env)\n",
      "  File \"/Users/nishant/Development/research/ray/python/ray/tune/registry.py\", line 97, in get\n",
      "    return _from_pinnable(ray.get(value))\n",
      "  File \"/Users/nishant/Development/research/ray/python/ray/worker.py\", line 2474, in get\n",
      "    value = worker.get_object([object_ids])[0]\n",
      "  File \"/Users/nishant/Development/research/ray/python/ray/worker.py\", line 454, in get_object\n",
      "    final_results = self.retrieve_and_deserialize(plain_object_ids, 0)\n",
      "  File \"/Users/nishant/Development/research/ray/python/ray/worker.py\", line 389, in retrieve_and_deserialize\n",
      "    timeout, self.serialization_context)\n",
      "  File \"plasma.pyx\", line 429, in pyarrow.plasma.PlasmaClient.get\n",
      "  File \"serialization.pxi\", line 441, in pyarrow.lib.deserialize\n",
      "  File \"serialization.pxi\", line 404, in pyarrow.lib.deserialize_from\n",
      "  File \"serialization.pxi\", line 257, in pyarrow.lib.SerializedPyObject.deserialize\n",
      "  File \"serialization.pxi\", line 165, in pyarrow.lib.SerializationContext._deserialize_callback\n",
      "  File \"/Users/nishant/Development/research/rllab-multiagent/learning-traffic/flow/core/vehicles.py\", line 10, in <module>\n",
      "    import traci.constants as tc\n",
      "  File \"/Users/nishant/Development/research/sumo/tools/traci/__init__.py\", line 31, in <module>\n",
      "    import sumolib  # noqa\n",
      "  File \"/Users/nishant/Development/research/sumo/tools/sumolib/__init__.py\", line 30, in <module>\n",
      "    from . import visualization\n",
      "  File \"/Users/nishant/Development/research/sumo/tools/sumolib/visualization/__init__.py\", line 21, in <module>\n",
      "    from . import helpers\n",
      "  File \"/Users/nishant/Development/research/sumo/tools/sumolib/visualization/helpers.py\", line 27, in <module>\n",
      "    from pylab import *\n",
      "  File \"/Users/nishant/anaconda3/envs/flow/lib/python3.5/site-packages/pylab.py\", line 1, in <module>\n",
      "    from matplotlib.pylab import *\n",
      "  File \"/Users/nishant/anaconda3/envs/flow/lib/python3.5/site-packages/matplotlib/pylab.py\", line 257, in <module>\n",
      "    from matplotlib import cbook, mlab, pyplot as plt\n",
      "  File \"/Users/nishant/anaconda3/envs/flow/lib/python3.5/site-packages/matplotlib/pyplot.py\", line 115, in <module>\n",
      "    _backend_mod, new_figure_manager, draw_if_interactive, _show = pylab_setup()\n",
      "  File \"/Users/nishant/anaconda3/envs/flow/lib/python3.5/site-packages/matplotlib/backends/__init__.py\", line 32, in pylab_setup\n",
      "    globals(),locals(),[backend_name],0)\n",
      "  File \"/Users/nishant/anaconda3/envs/flow/lib/python3.5/site-packages/ipykernel/__init__.py\", line 2, in <module>\n",
      "    from .connect import *\n",
      "  File \"/Users/nishant/anaconda3/envs/flow/lib/python3.5/site-packages/ipykernel/connect.py\", line 18, in <module>\n",
      "    import jupyter_client\n",
      "  File \"/Users/nishant/anaconda3/envs/flow/lib/python3.5/site-packages/jupyter_client/__init__.py\", line 7, in <module>\n",
      "    from .manager import KernelManager, run_kernel\n",
      "  File \"/Users/nishant/anaconda3/envs/flow/lib/python3.5/site-packages/jupyter_client/manager.py\", line 32, in <module>\n",
      "    from .session import Session\n",
      "  File \"/Users/nishant/anaconda3/envs/flow/lib/python3.5/site-packages/jupyter_client/session.py\", line 56, in <module>\n",
      "    from zmq.eventloop.ioloop import IOLoop\n",
      "  File \"/Users/nishant/anaconda3/envs/flow/lib/python3.5/site-packages/zmq/eventloop/__init__.py\", line 3, in <module>\n",
      "    from zmq.eventloop.ioloop import IOLoop\n",
      "  File \"/Users/nishant/anaconda3/envs/flow/lib/python3.5/site-packages/zmq/eventloop/ioloop.py\", line 35, in <module>\n",
      "    from tornado.ioloop import PollIOLoop, PeriodicCallback\n",
      "  File \"/Users/nishant/anaconda3/envs/flow/lib/python3.5/site-packages/tornado/ioloop.py\", line 47, in <module>\n",
      "    from tornado.concurrent import TracebackFuture, is_future\n",
      "  File \"/Users/nishant/anaconda3/envs/flow/lib/python3.5/site-packages/tornado/concurrent.py\", line 37, in <module>\n",
      "    from concurrent import futures\n",
      "  File \"/Users/nishant/anaconda3/envs/flow/lib/python3.5/site-packages/concurrent/futures/__init__.py\", line 8, in <module>\n",
      "    from concurrent.futures._base import (FIRST_COMPLETED,\n",
      "  File \"/Users/nishant/anaconda3/envs/flow/lib/python3.5/site-packages/concurrent/futures/_base.py\", line 381\n",
      "    raise exception_type, self._exception, self._traceback\n",
      "                        ^\n",
      "SyntaxError: invalid syntax\n",
      "\n",
      "\n",
      "  You can inspect errors by running\n",
      "\n",
      "      ray.error_info()\n",
      "\n",
      "  If this driver is hanging, start a new one with\n",
      "\n",
      "      ray.init(redis_address=\"10.142.38.11:63546\")\n",
      "  \n",
      "Error processing event: Traceback (most recent call last):\n",
      "  File \"/Users/nishant/Development/research/ray/python/ray/tune/trial_runner.py\", line 255, in _process_events\n",
      "    result = ray.get(result_id)\n",
      "  File \"/Users/nishant/Development/research/ray/python/ray/worker.py\", line 2479, in get\n",
      "    raise RayGetError(object_ids, value)\n",
      "ray.worker.RayGetError: Could not get objectid ObjectID(d423c1eb9cdacf810bf2e6c6c79c38a23d2e36cb). It was created by remote function \u001b[31mtrain\u001b[39m which failed with:\n",
      "\n",
      "Remote function \u001b[31mtrain\u001b[39m failed with:\n",
      "\n",
      "Traceback (most recent call last):\n",
      "  File \"/Users/nishant/Development/research/ray/python/ray/worker.py\", line 862, in _process_task\n",
      "    *arguments)\n",
      "  File \"/Users/nishant/Development/research/ray/python/ray/actor.py\", line 245, in actor_method_executor\n",
      "    method_returns = method(actor, *args)\n",
      "  File \"/Users/nishant/Development/research/ray/python/ray/tune/trainable.py\", line 123, in train\n",
      "    \"Trainable initialization failed, see previous errors\")\n",
      "ValueError: Trainable initialization failed, see previous errors\n",
      "\n",
      "\n",
      "Remote function \u001b[31mtrain\u001b[39m failed with:\n",
      "\n",
      "Traceback (most recent call last):\n",
      "  File \"/Users/nishant/Development/research/ray/python/ray/worker.py\", line 862, in _process_task\n",
      "    *arguments)\n",
      "  File \"/Users/nishant/Development/research/ray/python/ray/actor.py\", line 245, in actor_method_executor\n",
      "    method_returns = method(actor, *args)\n",
      "  File \"/Users/nishant/Development/research/ray/python/ray/tune/trainable.py\", line 123, in train\n",
      "    \"Trainable initialization failed, see previous errors\")\n",
      "ValueError: Trainable initialization failed, see previous errors\n",
      "\n",
      "\n",
      "  You can inspect errors by running\n",
      "\n",
      "      ray.error_info()\n",
      "\n",
      "  If this driver is hanging, start a new one with\n",
      "\n",
      "      ray.init(redis_address=\"10.142.38.11:63546\")\n",
      "  \n",
      "Worker ip unknown, skipping log sync for /Users/nishant/ray_results/ring_stabilize/PPO_WaveAttenuationPOEnv-v0_0_2018-06-05_13-20-544g72xv0w\n",
      "== Status ==\n",
      "Using FIFO scheduling algorithm.\n",
      "Resources requested: 0/2 CPUs, 0/0 GPUs\n",
      "Result logdir: /Users/nishant/ray_results/ring_stabilize\n",
      "ERROR trials:\n",
      " - PPO_WaveAttenuationPOEnv-v0_0:\tERROR, 1 failures: /Users/nishant/ray_results/ring_stabilize/PPO_WaveAttenuationPOEnv-v0_0_2018-06-05_13-20-544g72xv0w/error_2018-06-05_13-21-00.txt\n",
      "PENDING trials:\n",
      " - PPO_WaveAttenuationPOEnv-v0_1:\tPENDING\n",
      " - PPO_WaveAttenuationPOEnv-v0_2:\tPENDING\n",
      "\n",
      "Created LogSyncer for /Users/nishant/ray_results/ring_stabilize/PPO_WaveAttenuationPOEnv-v0_1_2018-06-05_13-21-00bl0dt9u5 -> \n"
     ]
    },
    {
     "name": "stdout",
     "output_type": "stream",
     "text": [
      "Remote function \u001b[31m__init__\u001b[39m failed with:\n",
      "\n",
      "Traceback (most recent call last):\n",
      "  File \"/Users/nishant/Development/research/ray/python/ray/worker.py\", line 862, in _process_task\n",
      "    *arguments)\n",
      "  File \"/Users/nishant/Development/research/ray/python/ray/actor.py\", line 245, in actor_method_executor\n",
      "    method_returns = method(actor, *args)\n",
      "  File \"/Users/nishant/Development/research/ray/python/ray/rllib/agent.py\", line 84, in __init__\n",
      "    Trainable.__init__(self, config, registry, logger_creator)\n",
      "  File \"/Users/nishant/Development/research/ray/python/ray/tune/trainable.py\", line 90, in __init__\n",
      "    self._setup()\n",
      "  File \"/Users/nishant/Development/research/ray/python/ray/rllib/agent.py\", line 91, in _setup\n",
      "    self.env_creator = self.registry.get(ENV_CREATOR, env)\n",
      "  File \"/Users/nishant/Development/research/ray/python/ray/tune/registry.py\", line 97, in get\n",
      "    return _from_pinnable(ray.get(value))\n",
      "  File \"/Users/nishant/Development/research/ray/python/ray/worker.py\", line 2474, in get\n",
      "    value = worker.get_object([object_ids])[0]\n",
      "  File \"/Users/nishant/Development/research/ray/python/ray/worker.py\", line 454, in get_object\n",
      "    final_results = self.retrieve_and_deserialize(plain_object_ids, 0)\n",
      "  File \"/Users/nishant/Development/research/ray/python/ray/worker.py\", line 389, in retrieve_and_deserialize\n",
      "    timeout, self.serialization_context)\n",
      "  File \"plasma.pyx\", line 429, in pyarrow.plasma.PlasmaClient.get\n",
      "  File \"serialization.pxi\", line 441, in pyarrow.lib.deserialize\n",
      "  File \"serialization.pxi\", line 404, in pyarrow.lib.deserialize_from\n",
      "  File \"serialization.pxi\", line 257, in pyarrow.lib.SerializedPyObject.deserialize\n",
      "  File \"serialization.pxi\", line 165, in pyarrow.lib.SerializationContext._deserialize_callback\n",
      "  File \"/Users/nishant/Development/research/rllab-multiagent/learning-traffic/flow/core/vehicles.py\", line 10, in <module>\n",
      "    import traci.constants as tc\n",
      "  File \"/Users/nishant/Development/research/sumo/tools/traci/__init__.py\", line 31, in <module>\n",
      "    import sumolib  # noqa\n",
      "  File \"/Users/nishant/Development/research/sumo/tools/sumolib/__init__.py\", line 30, in <module>\n",
      "    from . import visualization\n",
      "  File \"/Users/nishant/Development/research/sumo/tools/sumolib/visualization/__init__.py\", line 21, in <module>\n",
      "    from . import helpers\n",
      "  File \"/Users/nishant/Development/research/sumo/tools/sumolib/visualization/helpers.py\", line 27, in <module>\n",
      "    from pylab import *\n",
      "  File \"/Users/nishant/anaconda3/envs/flow/lib/python3.5/site-packages/pylab.py\", line 1, in <module>\n",
      "    from matplotlib.pylab import *\n",
      "  File \"/Users/nishant/anaconda3/envs/flow/lib/python3.5/site-packages/matplotlib/pylab.py\", line 257, in <module>\n",
      "    from matplotlib import cbook, mlab, pyplot as plt\n",
      "  File \"/Users/nishant/anaconda3/envs/flow/lib/python3.5/site-packages/matplotlib/pyplot.py\", line 115, in <module>\n",
      "    _backend_mod, new_figure_manager, draw_if_interactive, _show = pylab_setup()\n",
      "  File \"/Users/nishant/anaconda3/envs/flow/lib/python3.5/site-packages/matplotlib/backends/__init__.py\", line 32, in pylab_setup\n",
      "    globals(),locals(),[backend_name],0)\n",
      "  File \"/Users/nishant/anaconda3/envs/flow/lib/python3.5/site-packages/ipykernel/__init__.py\", line 2, in <module>\n",
      "    from .connect import *\n",
      "  File \"/Users/nishant/anaconda3/envs/flow/lib/python3.5/site-packages/ipykernel/connect.py\", line 18, in <module>\n",
      "    import jupyter_client\n",
      "  File \"/Users/nishant/anaconda3/envs/flow/lib/python3.5/site-packages/jupyter_client/__init__.py\", line 7, in <module>\n",
      "    from .manager import KernelManager, run_kernel\n",
      "  File \"/Users/nishant/anaconda3/envs/flow/lib/python3.5/site-packages/jupyter_client/manager.py\", line 32, in <module>\n",
      "    from .session import Session\n",
      "  File \"/Users/nishant/anaconda3/envs/flow/lib/python3.5/site-packages/jupyter_client/session.py\", line 56, in <module>\n",
      "    from zmq.eventloop.ioloop import IOLoop\n",
      "  File \"/Users/nishant/anaconda3/envs/flow/lib/python3.5/site-packages/zmq/eventloop/__init__.py\", line 3, in <module>\n",
      "    from zmq.eventloop.ioloop import IOLoop\n",
      "  File \"/Users/nishant/anaconda3/envs/flow/lib/python3.5/site-packages/zmq/eventloop/ioloop.py\", line 35, in <module>\n",
      "    from tornado.ioloop import PollIOLoop, PeriodicCallback\n",
      "  File \"/Users/nishant/anaconda3/envs/flow/lib/python3.5/site-packages/tornado/ioloop.py\", line 47, in <module>\n",
      "    from tornado.concurrent import TracebackFuture, is_future\n",
      "  File \"/Users/nishant/anaconda3/envs/flow/lib/python3.5/site-packages/tornado/concurrent.py\", line 37, in <module>\n",
      "    from concurrent import futures\n",
      "  File \"/Users/nishant/anaconda3/envs/flow/lib/python3.5/site-packages/concurrent/futures/__init__.py\", line 8, in <module>\n",
      "    from concurrent.futures._base import (FIRST_COMPLETED,\n",
      "  File \"/Users/nishant/anaconda3/envs/flow/lib/python3.5/site-packages/concurrent/futures/_base.py\", line 381\n",
      "    raise exception_type, self._exception, self._traceback\n",
      "                        ^\n",
      "SyntaxError: invalid syntax\n",
      "\n",
      "\n",
      "  You can inspect errors by running\n",
      "\n",
      "      ray.error_info()\n",
      "\n",
      "  If this driver is hanging, start a new one with\n",
      "\n",
      "      ray.init(redis_address=\"10.142.38.11:63546\")\n",
      "  \n",
      "Error processing event:Remote function \u001b[31mtrain\u001b[39m failed with:\n",
      "\n",
      "Traceback (most recent call last):\n",
      "  File \"/Users/nishant/Development/research/ray/python/ray/worker.py\", line 862, in _process_task\n",
      "    *arguments)\n",
      "  File \"/Users/nishant/Development/research/ray/python/ray/actor.py\", line 245, in actor_method_executor\n",
      "    method_returns = method(actor, *args)\n",
      "  File \"/Users/nishant/Development/research/ray/python/ray/tune/trainable.py\", line 123, in train\n",
      "    \"Trainable initialization failed, see previous errors\")\n",
      "ValueError: Trainable initialization failed, see previous errors\n",
      "\n",
      "\n",
      "  You can inspect errors by running\n",
      "\n",
      "      ray.error_info()\n",
      "\n",
      "  If this driver is hanging, start a new one with\n",
      "\n",
      "      ray.init(redis_address=\"10.142.38.11:63546\")\n",
      "  \n",
      " Traceback (most recent call last):\n",
      "  File \"/Users/nishant/Development/research/ray/python/ray/tune/trial_runner.py\", line 255, in _process_events\n",
      "    result = ray.get(result_id)\n",
      "  File \"/Users/nishant/Development/research/ray/python/ray/worker.py\", line 2479, in get\n",
      "    raise RayGetError(object_ids, value)\n",
      "ray.worker.RayGetError: Could not get objectid ObjectID(ce52cdb59edd0ead42174a8e9cecd70fd325f548). It was created by remote function \u001b[31mtrain\u001b[39m which failed with:\n",
      "\n",
      "Remote function \u001b[31mtrain\u001b[39m failed with:\n",
      "\n",
      "Traceback (most recent call last):\n",
      "  File \"/Users/nishant/Development/research/ray/python/ray/worker.py\", line 862, in _process_task\n",
      "    *arguments)\n",
      "  File \"/Users/nishant/Development/research/ray/python/ray/actor.py\", line 245, in actor_method_executor\n",
      "    method_returns = method(actor, *args)\n",
      "  File \"/Users/nishant/Development/research/ray/python/ray/tune/trainable.py\", line 123, in train\n",
      "    \"Trainable initialization failed, see previous errors\")\n",
      "ValueError: Trainable initialization failed, see previous errors\n",
      "\n",
      "\n",
      "Worker ip unknown, skipping log sync for /Users/nishant/ray_results/ring_stabilize/PPO_WaveAttenuationPOEnv-v0_1_2018-06-05_13-21-00bl0dt9u5\n",
      "Created LogSyncer for /Users/nishant/ray_results/ring_stabilize/PPO_WaveAttenuationPOEnv-v0_2_2018-06-05_13-21-03ke6l47_0 -> \n",
      "Remote function \u001b[31m__init__\u001b[39m failed with:\n",
      "\n",
      "Traceback (most recent call last):\n",
      "  File \"/Users/nishant/Development/research/ray/python/ray/worker.py\", line 862, in _process_task\n",
      "    *arguments)\n",
      "  File \"/Users/nishant/Development/research/ray/python/ray/actor.py\", line 245, in actor_method_executor\n",
      "    method_returns = method(actor, *args)\n",
      "  File \"/Users/nishant/Development/research/ray/python/ray/rllib/agent.py\", line 84, in __init__\n",
      "    Trainable.__init__(self, config, registry, logger_creator)\n",
      "  File \"/Users/nishant/Development/research/ray/python/ray/tune/trainable.py\", line 90, in __init__\n",
      "    self._setup()\n",
      "  File \"/Users/nishant/Development/research/ray/python/ray/rllib/agent.py\", line 91, in _setup\n",
      "    self.env_creator = self.registry.get(ENV_CREATOR, env)\n",
      "  File \"/Users/nishant/Development/research/ray/python/ray/tune/registry.py\", line 97, in get\n",
      "    return _from_pinnable(ray.get(value))\n",
      "  File \"/Users/nishant/Development/research/ray/python/ray/worker.py\", line 2474, in get\n",
      "    value = worker.get_object([object_ids])[0]\n",
      "  File \"/Users/nishant/Development/research/ray/python/ray/worker.py\", line 454, in get_object\n",
      "    final_results = self.retrieve_and_deserialize(plain_object_ids, 0)\n",
      "  File \"/Users/nishant/Development/research/ray/python/ray/worker.py\", line 389, in retrieve_and_deserialize\n",
      "    timeout, self.serialization_context)\n",
      "  File \"plasma.pyx\", line 429, in pyarrow.plasma.PlasmaClient.get\n",
      "  File \"serialization.pxi\", line 441, in pyarrow.lib.deserialize\n",
      "  File \"serialization.pxi\", line 404, in pyarrow.lib.deserialize_from\n",
      "  File \"serialization.pxi\", line 257, in pyarrow.lib.SerializedPyObject.deserialize\n",
      "  File \"serialization.pxi\", line 165, in pyarrow.lib.SerializationContext._deserialize_callback\n",
      "  File \"/Users/nishant/Development/research/rllab-multiagent/learning-traffic/flow/core/vehicles.py\", line 10, in <module>\n",
      "    import traci.constants as tc\n",
      "  File \"/Users/nishant/Development/research/sumo/tools/traci/__init__.py\", line 31, in <module>\n",
      "    import sumolib  # noqa\n",
      "  File \"/Users/nishant/Development/research/sumo/tools/sumolib/__init__.py\", line 30, in <module>\n",
      "    from . import visualization\n",
      "  File \"/Users/nishant/Development/research/sumo/tools/sumolib/visualization/__init__.py\", line 21, in <module>\n",
      "    from . import helpers\n",
      "  File \"/Users/nishant/Development/research/sumo/tools/sumolib/visualization/helpers.py\", line 27, in <module>\n",
      "    from pylab import *\n",
      "  File \"/Users/nishant/anaconda3/envs/flow/lib/python3.5/site-packages/pylab.py\", line 1, in <module>\n",
      "    from matplotlib.pylab import *\n",
      "  File \"/Users/nishant/anaconda3/envs/flow/lib/python3.5/site-packages/matplotlib/pylab.py\", line 257, in <module>\n",
      "    from matplotlib import cbook, mlab, pyplot as plt\n",
      "  File \"/Users/nishant/anaconda3/envs/flow/lib/python3.5/site-packages/matplotlib/pyplot.py\", line 115, in <module>\n",
      "    _backend_mod, new_figure_manager, draw_if_interactive, _show = pylab_setup()\n",
      "  File \"/Users/nishant/anaconda3/envs/flow/lib/python3.5/site-packages/matplotlib/backends/__init__.py\", line 32, in pylab_setup\n",
      "    globals(),locals(),[backend_name],0)\n",
      "  File \"/Users/nishant/anaconda3/envs/flow/lib/python3.5/site-packages/ipykernel/__init__.py\", line 2, in <module>\n",
      "    from .connect import *\n",
      "  File \"/Users/nishant/anaconda3/envs/flow/lib/python3.5/site-packages/ipykernel/connect.py\", line 18, in <module>\n",
      "    import jupyter_client\n",
      "  File \"/Users/nishant/anaconda3/envs/flow/lib/python3.5/site-packages/jupyter_client/__init__.py\", line 7, in <module>\n",
      "    from .manager import KernelManager, run_kernel\n",
      "  File \"/Users/nishant/anaconda3/envs/flow/lib/python3.5/site-packages/jupyter_client/manager.py\", line 32, in <module>\n",
      "    from .session import Session\n",
      "  File \"/Users/nishant/anaconda3/envs/flow/lib/python3.5/site-packages/jupyter_client/session.py\", line 56, in <module>\n",
      "    from zmq.eventloop.ioloop import IOLoop\n",
      "  File \"/Users/nishant/anaconda3/envs/flow/lib/python3.5/site-packages/zmq/eventloop/__init__.py\", line 3, in <module>\n",
      "    from zmq.eventloop.ioloop import IOLoop\n",
      "  File \"/Users/nishant/anaconda3/envs/flow/lib/python3.5/site-packages/zmq/eventloop/ioloop.py\", line 35, in <module>\n",
      "    from tornado.ioloop import PollIOLoop, PeriodicCallback\n",
      "  File \"/Users/nishant/anaconda3/envs/flow/lib/python3.5/site-packages/tornado/ioloop.py\", line 47, in <module>\n",
      "    from tornado.concurrent import TracebackFuture, is_future\n",
      "  File \"/Users/nishant/anaconda3/envs/flow/lib/python3.5/site-packages/tornado/concurrent.py\", line 37, in <module>\n",
      "    from concurrent import futures\n",
      "  File \"/Users/nishant/anaconda3/envs/flow/lib/python3.5/site-packages/concurrent/futures/__init__.py\", line 8, in <module>\n",
      "    from concurrent.futures._base import (FIRST_COMPLETED,\n",
      "  File \"/Users/nishant/anaconda3/envs/flow/lib/python3.5/site-packages/concurrent/futures/_base.py\", line 381\n",
      "    raise exception_type, self._exception, self._traceback\n",
      "                        ^\n",
      "SyntaxError: invalid syntax\n",
      "\n",
      "\n",
      "  You can inspect errors by running\n",
      "\n",
      "      ray.error_info()\n",
      "\n",
      "  If this driver is hanging, start a new one with\n",
      "\n",
      "      ray.init(redis_address=\"10.142.38.11:63546\")\n",
      "  \n",
      "Error processing event: Traceback (most recent call last):\n",
      "  File \"/Users/nishant/Development/research/ray/python/ray/tune/trial_runner.py\", line 255, in _process_events\n",
      "    result = ray.get(result_id)\n",
      "  File \"/Users/nishant/Development/research/ray/python/ray/worker.py\", line 2479, in get\n",
      "    raise RayGetError(object_ids, value)\n",
      "ray.worker.RayGetError: Could not get objectid ObjectID(91abc99d3180a4363eb8e0337904fe20ab360e30). It was created by remote function \u001b[31mtrain\u001b[39m which failed with:\n",
      "\n",
      "Remote function \u001b[31mtrain\u001b[39m failed with:\n",
      "\n",
      "Traceback (most recent call last):\n",
      "  File \"/Users/nishant/Development/research/ray/python/ray/worker.py\", line 862, in _process_task\n",
      "    *arguments)\n",
      "  File \"/Users/nishant/Development/research/ray/python/ray/actor.py\", line 245, in actor_method_executor\n",
      "    method_returns = method(actor, *args)\n",
      "  File \"/Users/nishant/Development/research/ray/python/ray/tune/trainable.py\", line 123, in train\n",
      "    \"Trainable initialization failed, see previous errors\")\n",
      "ValueError: Trainable initialization failed, see previous errors\n",
      "\n",
      "Remote function \u001b[31mtrain\u001b[39m failed with:\n",
      "\n",
      "Traceback (most recent call last):\n",
      "  File \"/Users/nishant/Development/research/ray/python/ray/worker.py\", line 862, in _process_task\n",
      "    *arguments)\n",
      "  File \"/Users/nishant/Development/research/ray/python/ray/actor.py\", line 245, in actor_method_executor\n",
      "    method_returns = method(actor, *args)\n",
      "  File \"/Users/nishant/Development/research/ray/python/ray/tune/trainable.py\", line 123, in train\n",
      "    \"Trainable initialization failed, see previous errors\")\n",
      "ValueError: Trainable initialization failed, see previous errors\n",
      "\n",
      "\n",
      "\n",
      "  You can inspect errors by running\n",
      "\n",
      "      ray.error_info()\n",
      "\n",
      "  If this driver is hanging, start a new one with\n",
      "\n",
      "      ray.init(redis_address=\"10.142.38.11:63546\")\n",
      "  \n"
     ]
    },
    {
     "name": "stdout",
     "output_type": "stream",
     "text": [
      "Worker ip unknown, skipping log sync for /Users/nishant/ray_results/ring_stabilize/PPO_WaveAttenuationPOEnv-v0_2_2018-06-05_13-21-03ke6l47_0\n",
      "== Status ==\n",
      "Using FIFO scheduling algorithm.\n",
      "Resources requested: 0/2 CPUs, 0/0 GPUs\n",
      "Result logdir: /Users/nishant/ray_results/ring_stabilize\n",
      "ERROR trials:\n",
      " - PPO_WaveAttenuationPOEnv-v0_0:\tERROR, 1 failures: /Users/nishant/ray_results/ring_stabilize/PPO_WaveAttenuationPOEnv-v0_0_2018-06-05_13-20-544g72xv0w/error_2018-06-05_13-21-00.txt\n",
      " - PPO_WaveAttenuationPOEnv-v0_1:\tERROR, 1 failures: /Users/nishant/ray_results/ring_stabilize/PPO_WaveAttenuationPOEnv-v0_1_2018-06-05_13-21-00bl0dt9u5/error_2018-06-05_13-21-03.txt\n",
      " - PPO_WaveAttenuationPOEnv-v0_2:\tERROR, 1 failures: /Users/nishant/ray_results/ring_stabilize/PPO_WaveAttenuationPOEnv-v0_2_2018-06-05_13-21-03ke6l47_0/error_2018-06-05_13-21-09.txt\n",
      "\n",
      "== Status ==\n",
      "Using FIFO scheduling algorithm.\n",
      "Resources requested: 0/2 CPUs, 0/0 GPUs\n",
      "Result logdir: /Users/nishant/ray_results/ring_stabilize\n",
      "ERROR trials:\n",
      " - PPO_WaveAttenuationPOEnv-v0_0:\tERROR, 1 failures: /Users/nishant/ray_results/ring_stabilize/PPO_WaveAttenuationPOEnv-v0_0_2018-06-05_13-20-544g72xv0w/error_2018-06-05_13-21-00.txt\n",
      " - PPO_WaveAttenuationPOEnv-v0_1:\tERROR, 1 failures: /Users/nishant/ray_results/ring_stabilize/PPO_WaveAttenuationPOEnv-v0_1_2018-06-05_13-21-00bl0dt9u5/error_2018-06-05_13-21-03.txt\n",
      " - PPO_WaveAttenuationPOEnv-v0_2:\tERROR, 1 failures: /Users/nishant/ray_results/ring_stabilize/PPO_WaveAttenuationPOEnv-v0_2_2018-06-05_13-21-03ke6l47_0/error_2018-06-05_13-21-09.txt\n",
      "\n"
     ]
    },
    {
     "ename": "TuneError",
     "evalue": "('Trial did not complete', PPO_WaveAttenuationPOEnv-v0_0)",
     "output_type": "error",
     "traceback": [
      "\u001b[0;31m---------------------------------------------------------------------------\u001b[0m",
      "\u001b[0;31mTuneError\u001b[0m                                 Traceback (most recent call last)",
      "\u001b[0;32m<ipython-input-15-40ae88418f02>\u001b[0m in \u001b[0;36m<module>\u001b[0;34m()\u001b[0m\n\u001b[1;32m     15\u001b[0m             \u001b[0;34m\"cpu\"\u001b[0m\u001b[0;34m:\u001b[0m \u001b[0;36m1\u001b[0m\u001b[0;34m,\u001b[0m\u001b[0;34m\u001b[0m\u001b[0m\n\u001b[1;32m     16\u001b[0m             \u001b[0;34m\"gpu\"\u001b[0m\u001b[0;34m:\u001b[0m \u001b[0;36m0\u001b[0m\u001b[0;34m,\u001b[0m\u001b[0;34m\u001b[0m\u001b[0m\n\u001b[0;32m---> 17\u001b[0;31m             \u001b[0;34m\"extra_cpu\"\u001b[0m\u001b[0;34m:\u001b[0m \u001b[0mPARALLEL_ROLLOUTS\u001b[0m \u001b[0;34m-\u001b[0m \u001b[0;36m1\u001b[0m\u001b[0;34m,\u001b[0m\u001b[0;34m\u001b[0m\u001b[0m\n\u001b[0m\u001b[1;32m     18\u001b[0m         },\n\u001b[1;32m     19\u001b[0m     },\n",
      "\u001b[0;32m~/Development/research/ray/python/ray/tune/tune.py\u001b[0m in \u001b[0;36mrun_experiments\u001b[0;34m(experiments, scheduler, with_server, server_port, verbose, queue_trials)\u001b[0m\n\u001b[1;32m     96\u001b[0m         \u001b[0;31m# TODO(rliaw): What about errored?\u001b[0m\u001b[0;34m\u001b[0m\u001b[0;34m\u001b[0m\u001b[0m\n\u001b[1;32m     97\u001b[0m         \u001b[0;32mif\u001b[0m \u001b[0mtrial\u001b[0m\u001b[0;34m.\u001b[0m\u001b[0mstatus\u001b[0m \u001b[0;34m!=\u001b[0m \u001b[0mTrial\u001b[0m\u001b[0;34m.\u001b[0m\u001b[0mTERMINATED\u001b[0m\u001b[0;34m:\u001b[0m\u001b[0;34m\u001b[0m\u001b[0m\n\u001b[0;32m---> 98\u001b[0;31m             \u001b[0;32mraise\u001b[0m \u001b[0mTuneError\u001b[0m\u001b[0;34m(\u001b[0m\u001b[0;34m\"Trial did not complete\"\u001b[0m\u001b[0;34m,\u001b[0m \u001b[0mtrial\u001b[0m\u001b[0;34m)\u001b[0m\u001b[0;34m\u001b[0m\u001b[0m\n\u001b[0m\u001b[1;32m     99\u001b[0m \u001b[0;34m\u001b[0m\u001b[0m\n\u001b[1;32m    100\u001b[0m     \u001b[0mwait_for_log_sync\u001b[0m\u001b[0;34m(\u001b[0m\u001b[0;34m)\u001b[0m\u001b[0;34m\u001b[0m\u001b[0m\n",
      "\u001b[0;31mTuneError\u001b[0m: ('Trial did not complete', PPO_WaveAttenuationPOEnv-v0_0)"
     ]
    }
   ],
   "source": [
    "trials = run_experiments({\n",
    "    \"ring_stabilize\": {\n",
    "        \"run\": \"PPO\",\n",
    "        \"env\": env_name,\n",
    "        \"config\": {\n",
    "            **config\n",
    "        },\n",
    "        \"checkpoint_freq\": 20,\n",
    "        \"max_failures\": 999,\n",
    "        \"stop\": {\n",
    "            \"training_iteration\": 200,\n",
    "        },\n",
    "        \"repeat\": 3,\n",
    "        \"trial_resources\": {\n",
    "            \"cpu\": 1,\n",
    "            \"gpu\": 0,\n",
    "            \"extra_cpu\": PARALLEL_ROLLOUTS - 1,\n",
    "        },\n",
    "    },\n",
    "})"
   ]
  },
  {
   "cell_type": "code",
   "execution_count": null,
   "metadata": {
    "collapsed": true
   },
   "outputs": [],
   "source": []
  }
 ],
 "metadata": {
  "kernelspec": {
   "display_name": "Python 3",
   "language": "python",
   "name": "python3"
  },
  "language_info": {
   "codemirror_mode": {
    "name": "ipython",
    "version": 3
   },
   "file_extension": ".py",
   "mimetype": "text/x-python",
   "name": "python",
   "nbconvert_exporter": "python",
   "pygments_lexer": "ipython3",
   "version": "3.5.2"
  },
  "widgets": {
   "state": {},
   "version": "1.1.2"
  }
 },
 "nbformat": 4,
 "nbformat_minor": 2
}
