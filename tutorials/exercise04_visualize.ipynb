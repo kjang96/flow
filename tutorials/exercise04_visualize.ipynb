{
 "cells": [
  {
   "cell_type": "markdown",
   "metadata": {},
   "source": [
    "# Exercise 04: Visualizing Experiment Results"
   ]
  },
  {
   "cell_type": "markdown",
   "metadata": {
    "collapsed": true
   },
   "source": [
    "This tutorial describes the process of visualizing and replaying the results of Flow experiments run using RL. The process of visualizing results breaks down into two main components:\n",
    "\n",
    "- reward plotting\n",
    "\n",
    "- policy replay\n",
    "\n",
    "Furthermore, visualization is different depending on whether your experiments were run using rllab or RLlib. Accordingly, this tutorial is divided in two parts (one for rllab and one for RLlib)."
   ]
  },
  {
   "cell_type": "markdown",
   "metadata": {},
   "source": [
    "## rllab"
   ]
  },
  {
   "cell_type": "markdown",
   "metadata": {},
   "source": [
    "### Plotting Reward"
   ]
  },
  {
   "cell_type": "markdown",
   "metadata": {},
   "source": [
    "An essential step in evaluating the effectiveness and training progress of RL agents is visualization of reward. rllab includes a tool to plot the _average cumulative reward per rollout_ against _iteration number_ to show training progress. This \"reward plot\" can be generated for just one experiment or many. The tool to be called is rllab's `frontend.py`, which is inside the directory `rllab/viskit/` (assuming a user is already inside the directory `rllab-multiagent`). "
   ]
  },
  {
   "cell_type": "markdown",
   "metadata": {},
   "source": [
    "`frontend.py` requires only one command-line input: the path to the result directory that a user wants to visualize. The directory should contain a `progress.csv` and `params.json` file—pickle files containing per-iteration results are not necessary. An example call to `frontend.py` is below."
   ]
  },
  {
   "cell_type": "code",
   "execution_count": 4,
   "metadata": {},
   "outputs": [
    {
     "name": "stdout",
     "output_type": "stream",
     "text": [
      "Importing data from ['/path/to/result/directory']...\n",
      "Done! View http://localhost:5000 in your browser\n",
      " * Running on http://0.0.0.0:5000/ (Press CTRL+C to quit)\n",
      "None None None None\n",
      "127.0.0.1 - - [27/Apr/2018 15:15:19] \"GET / HTTP/1.1\" 200 -\n",
      "127.0.0.1 - - [27/Apr/2018 15:15:19] \"GET /static/css/bootstrap.min.css HTTP/1.1\" 200 -\n",
      "127.0.0.1 - - [27/Apr/2018 15:15:19] \"GET /static/css/dropdowns-enhancement.css HTTP/1.1\" 200 -\n",
      "127.0.0.1 - - [27/Apr/2018 15:15:19] \"GET /static/js/plotly-latest.min.js HTTP/1.1\" 200 -\n",
      "127.0.0.1 - - [27/Apr/2018 15:15:19] \"GET /static/js/jquery-1.10.2.min.js HTTP/1.1\" 200 -\n",
      "127.0.0.1 - - [27/Apr/2018 15:15:19] \"GET /static/js/bootstrap.min.js HTTP/1.1\" 200 -\n",
      "127.0.0.1 - - [27/Apr/2018 15:15:19] \"GET /static/js/dropdowns-enhancement.js HTTP/1.1\" 200 -\n",
      "127.0.0.1 - - [27/Apr/2018 15:15:19] \"GET /static/js/jquery.loadTemplate-1.5.6.js HTTP/1.1\" 200 -\n",
      "127.0.0.1 - - [27/Apr/2018 15:15:20] \"GET /favicon.ico HTTP/1.1\" 404 -\n",
      "^C\n"
     ]
    }
   ],
   "source": [
    "! python rllab/viskit/frontend.py /path/to/result/directory"
   ]
  },
  {
   "cell_type": "markdown",
   "metadata": {},
   "source": [
    "### Replaying a Trained Policy"
   ]
  },
  {
   "cell_type": "markdown",
   "metadata": {},
   "source": []
  },
  {
   "cell_type": "markdown",
   "metadata": {},
   "source": [
    "## RLlib"
   ]
  },
  {
   "cell_type": "markdown",
   "metadata": {},
   "source": [
    "### Plotting Reward"
   ]
  },
  {
   "cell_type": "code",
   "execution_count": null,
   "metadata": {
    "collapsed": true
   },
   "outputs": [],
   "source": []
  },
  {
   "cell_type": "markdown",
   "metadata": {},
   "source": [
    "### Replaying a Trained Policy"
   ]
  },
  {
   "cell_type": "code",
   "execution_count": null,
   "metadata": {
    "collapsed": true
   },
   "outputs": [],
   "source": []
  }
 ],
 "metadata": {
  "kernelspec": {
   "display_name": "Python 3",
   "language": "python",
   "name": "python3"
  },
  "language_info": {
   "codemirror_mode": {
    "name": "ipython",
    "version": 3
   },
   "file_extension": ".py",
   "mimetype": "text/x-python",
   "name": "python",
   "nbconvert_exporter": "python",
   "pygments_lexer": "ipython3",
   "version": "3.5.2"
  },
  "widgets": {
   "state": {},
   "version": "1.1.2"
  }
 },
 "nbformat": 4,
 "nbformat_minor": 1
}
